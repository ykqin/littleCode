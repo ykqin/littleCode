{
 "cells": [
  {
   "cell_type": "markdown",
   "id": "4fa53778",
   "metadata": {},
   "source": [
    "# 使用panda对excel数据进行处理"
   ]
  },
  {
   "cell_type": "code",
   "execution_count": 1,
   "id": "b3538f98",
   "metadata": {},
   "outputs": [
    {
     "name": "stdout",
     "output_type": "stream",
     "text": [
      "        name  age\n",
      "0  Zhang San   28\n"
     ]
    }
   ],
   "source": [
    "import pandas as pd\n",
    "\n",
    "\n",
    "# 读取Excel文件\n",
    "df = pd.read_excel('data.xlsx')\n",
    "\n",
    "# 筛选特定列的特定值\n",
    "filter_column = 'name'\n",
    "filter_value = 'Zhang San'\n",
    "condition = df[filter_column] == filter_value\n",
    "filtered_df = df[condition]\n",
    "\n",
    "# 打印筛选后的数据\n",
    "print(filtered_df)"
   ]
  },
  {
   "cell_type": "markdown",
   "id": "74fb41f4",
   "metadata": {},
   "source": [
    "当excel文件较大时，通常会花费较多时间。可以通过将excel转化为其他格式的文件。"
   ]
  },
  {
   "cell_type": "code",
   "execution_count": 2,
   "id": "f09fbf09",
   "metadata": {},
   "outputs": [],
   "source": [
    "df.to_pickle('data.pkl')"
   ]
  },
  {
   "cell_type": "code",
   "execution_count": 3,
   "id": "ca6c7d5a",
   "metadata": {},
   "outputs": [
    {
     "name": "stdout",
     "output_type": "stream",
     "text": [
      "        name  age\n",
      "0  Zhang San   28\n",
      "1      Li Si   26\n",
      "2    Wang Er   22\n"
     ]
    }
   ],
   "source": [
    "# 读取Excel文件\n",
    "df_pkl = pd.read_pickle('data.pkl')\n",
    "print(df_pkl)"
   ]
  }
 ],
 "metadata": {
  "kernelspec": {
   "display_name": "Python 3 (ipykernel)",
   "language": "python",
   "name": "python3"
  },
  "language_info": {
   "codemirror_mode": {
    "name": "ipython",
    "version": 3
   },
   "file_extension": ".py",
   "mimetype": "text/x-python",
   "name": "python",
   "nbconvert_exporter": "python",
   "pygments_lexer": "ipython3",
   "version": "3.11.3"
  },
  "varInspector": {
   "cols": {
    "lenName": 16,
    "lenType": 16,
    "lenVar": 40
   },
   "kernels_config": {
    "python": {
     "delete_cmd_postfix": "",
     "delete_cmd_prefix": "del ",
     "library": "var_list.py",
     "varRefreshCmd": "print(var_dic_list())"
    },
    "r": {
     "delete_cmd_postfix": ") ",
     "delete_cmd_prefix": "rm(",
     "library": "var_list.r",
     "varRefreshCmd": "cat(var_dic_list()) "
    }
   },
   "types_to_exclude": [
    "module",
    "function",
    "builtin_function_or_method",
    "instance",
    "_Feature"
   ],
   "window_display": false
  }
 },
 "nbformat": 4,
 "nbformat_minor": 5
}
