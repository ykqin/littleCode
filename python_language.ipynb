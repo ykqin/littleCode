{
 "cells": [
  {
   "cell_type": "markdown",
   "id": "09b8d77c",
   "metadata": {},
   "source": [
    "# 位运算"
   ]
  },
  {
   "cell_type": "code",
   "execution_count": 2,
   "id": "cf5ba4ed",
   "metadata": {},
   "outputs": [
    {
     "name": "stdout",
     "output_type": "stream",
     "text": [
      "000000000000000000000000000000000000000000000\n"
     ]
    }
   ],
   "source": [
    "bitmap = 0b0\n",
    "bitmap_str = bin(bitmap)[2:].zfill(45)\n",
    "print(bitmap_str)"
   ]
  },
  {
   "cell_type": "code",
   "execution_count": 3,
   "id": "daf0000a",
   "metadata": {},
   "outputs": [
    {
     "name": "stdout",
     "output_type": "stream",
     "text": [
      "100000000000000000000000000000000000000000000\n"
     ]
    }
   ],
   "source": [
    "bitmap |= 0b1 << 44\n",
    "bitmap_str = bin(bitmap)[2:].zfill(45)\n",
    "print(bitmap_str)"
   ]
  },
  {
   "cell_type": "code",
   "execution_count": 4,
   "id": "3a1f39df",
   "metadata": {},
   "outputs": [
    {
     "name": "stdout",
     "output_type": "stream",
     "text": [
      "1\n"
     ]
    }
   ],
   "source": [
    "# 置1bit数目\n",
    "bit_num = bitmap_str.count('1')\n",
    "print(bit_num)"
   ]
  },
  {
   "cell_type": "code",
   "execution_count": 5,
   "id": "34044bee",
   "metadata": {},
   "outputs": [
    {
     "name": "stdout",
     "output_type": "stream",
     "text": [
      "000011111111111000000\n",
      "000001111111111100000\n"
     ]
    }
   ],
   "source": [
    "# 将置1bit位置0\n",
    "freq = '000011111111111100000'\n",
    "last_index = freq.rindex('1')\n",
    "new_freq_1 = freq[:last_index] + '0' + freq[last_index + 1:]\n",
    "\n",
    "first_index = freq.index('1')\n",
    "new_freq_2 = freq[:first_index] + '0' + freq[first_index + 1:]\n",
    "\n",
    "print(new_freq_1)\n",
    "print(new_freq_2)"
   ]
  },
  {
   "cell_type": "code",
   "execution_count": 6,
   "id": "b669f0db",
   "metadata": {},
   "outputs": [
    {
     "name": "stdout",
     "output_type": "stream",
     "text": [
      "48\n",
      "0000110000\n"
     ]
    }
   ],
   "source": [
    "# 二进制字符串取交集\n",
    "str1 = '0001111000'\n",
    "str2 = '0010110100'\n",
    "intersection = int(str1,2) & int(str2,2)\n",
    "binary_intersection = bin(intersection)[2:].zfill(10)\n",
    "print(intersection)\n",
    "print(binary_intersection)"
   ]
  },
  {
   "cell_type": "code",
   "execution_count": null,
   "id": "0fb3ecc2",
   "metadata": {},
   "outputs": [],
   "source": []
  }
 ],
 "metadata": {
  "kernelspec": {
   "display_name": "Python 3 (ipykernel)",
   "language": "python",
   "name": "python3"
  },
  "language_info": {
   "codemirror_mode": {
    "name": "ipython",
    "version": 3
   },
   "file_extension": ".py",
   "mimetype": "text/x-python",
   "name": "python",
   "nbconvert_exporter": "python",
   "pygments_lexer": "ipython3",
   "version": "3.11.3"
  },
  "varInspector": {
   "cols": {
    "lenName": 16,
    "lenType": 16,
    "lenVar": 40
   },
   "kernels_config": {
    "python": {
     "delete_cmd_postfix": "",
     "delete_cmd_prefix": "del ",
     "library": "var_list.py",
     "varRefreshCmd": "print(var_dic_list())"
    },
    "r": {
     "delete_cmd_postfix": ") ",
     "delete_cmd_prefix": "rm(",
     "library": "var_list.r",
     "varRefreshCmd": "cat(var_dic_list()) "
    }
   },
   "types_to_exclude": [
    "module",
    "function",
    "builtin_function_or_method",
    "instance",
    "_Feature"
   ],
   "window_display": false
  }
 },
 "nbformat": 4,
 "nbformat_minor": 5
}
